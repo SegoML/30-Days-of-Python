{
  "nbformat": 4,
  "nbformat_minor": 0,
  "metadata": {
    "colab": {
      "provenance": []
    },
    "kernelspec": {
      "name": "python3",
      "display_name": "Python 3"
    },
    "language_info": {
      "name": "python"
    }
  },
  "cells": [
    {
      "cell_type": "code",
      "execution_count": 1,
      "metadata": {
        "id": "5V8O_eAksugp"
      },
      "outputs": [],
      "source": [
        "# Exercises: Level 1\n",
        "\n",
        "# 1. Explain the difference between map, filter, and reduce.\n",
        "#    (This one doesn't require code, so we will just put a comment here).\n",
        "#    # map applies a function to all items in an iterable and returns a new iterable.\n",
        "#    # filter selects items in an iterable based on a function that returns True.\n",
        "#    # reduce applies a function cumulatively to the items of an iterable to produce a single result.\n",
        "\n",
        "# 2. Explain the difference between higher order function and a normal function.\n",
        "#    (Again, no code here, a comment):\n",
        "#    # Higher-order functions can take other functions as arguments or return a function as their result.\n",
        "#    # Normal functions operate on values and variables but cannot manipulate functions.\n",
        "\n",
        "# 3. Define a function which takes a function and a list as parameters and returns a modified list.\n",
        "def modify_list(func, data_list):\n",
        "    return [func(item) for item in data_list]\n",
        "\n",
        "\n",
        "# 4. Define a function which takes a function and a string as a parameters and returns modified string.\n",
        "def modify_string(func, string):\n",
        "  return \"\".join([func(char) for char in string])\n",
        "\n",
        "# 5. Define a function that takes a number and returns its square.\n",
        "def square(number):\n",
        "    return number ** 2\n",
        "\n",
        "# 6. Define a function that takes a string and returns its uppercase.\n",
        "def uppercase(string):\n",
        "    return string.upper()\n",
        "\n",
        "# 7. Define a function that takes a string and returns its lowercase.\n",
        "def lowercase(string):\n",
        "    return string.lower()"
      ]
    },
    {
      "cell_type": "code",
      "source": [
        "# Exercises: Level 2\n",
        "\n",
        "# 1. Use the functions defined in Level 1 and map or filter to change the following list to it squares.\n",
        "#    numbers = [1, 2, 3, 4, 5]\n",
        "\n",
        "numbers = [1, 2, 3, 4, 5]\n",
        "squared_numbers = list(map(square, numbers))\n",
        "print(\"Squared Numbers:\", squared_numbers)\n",
        "\n",
        "# 2. Use the functions defined in Level 1 and map or filter to change the following list to its uppercase\n",
        "#    countries = ['Finland', 'Sweden', 'Norway', 'Iceland', 'Denmark']\n",
        "\n",
        "countries = ['Finland', 'Sweden', 'Norway', 'Iceland', 'Denmark']\n",
        "upper_countries = list(map(uppercase, countries))\n",
        "print(\"Uppercase Countries:\", upper_countries)\n",
        "\n",
        "# 3. Use the functions defined in Level 1 and map or filter to change the following list to its lowercase.\n",
        "#    countries = ['Finland', 'Sweden', 'Norway', 'Iceland', 'Denmark']\n",
        "\n",
        "lower_countries = list(map(lowercase, countries))\n",
        "print(\"Lowercase Countries:\", lower_countries)\n",
        "\n",
        "\n",
        "# 4. Define a function which takes a string of number and returns its sum.\n",
        "def sum_of_string_numbers(string):\n",
        "  return sum(int(digit) for digit in string if digit.isdigit())\n",
        "\n",
        "\n",
        "# 5. Use reduce to sum all the numbers in the list.\n",
        "from functools import reduce\n",
        "\n",
        "def sum_list(list_of_numbers):\n",
        "  return reduce(lambda x, y: x+y, list_of_numbers)\n",
        "\n",
        "# 6. Use filter to filter out the numbers which are not even.\n",
        "def filter_even(list_of_numbers):\n",
        "    return list(filter(lambda x: x % 2 == 0, list_of_numbers))"
      ],
      "metadata": {
        "id": "1eaqeI4Hs6Uf"
      },
      "execution_count": null,
      "outputs": []
    },
    {
      "cell_type": "code",
      "source": [
        "# Test Cases\n",
        "\n",
        "# Level 1 Tests\n",
        "print(\"Level 1 Tests:\")\n",
        "numbers_list = [1, 2, 3, 4, 5]\n",
        "print(\"modify_list(square, numbers_list):\", modify_list(square, numbers_list))\n",
        "print(\"modify_string(uppercase, 'hello'):\", modify_string(uppercase, \"hello\"))\n",
        "print(\"square(5):\", square(5))\n",
        "print(\"uppercase('test'):\", uppercase('test'))\n",
        "print(\"lowercase('TEST'):\", lowercase('TEST'))\n",
        "\n",
        "# Level 2 Tests\n",
        "print(\"\\nLevel 2 Tests:\")\n",
        "# Level 2.1, 2.2, and 2.3 were printed above\n",
        "\n",
        "print(\"sum_of_string_numbers('12345'):\", sum_of_string_numbers('12345'))\n",
        "print(\"sum_list([1, 2, 3, 4, 5]):\", sum_list([1, 2, 3, 4, 5]))\n",
        "print(\"filter_even([1, 2, 3, 4, 5]):\", filter_even([1, 2, 3, 4, 5]))\n",
        "\n",
        "\n",
        "\n",
        "# Level 3 Tests\n",
        "print(\"\\nLevel 3 Tests:\")\n",
        "\n",
        "def add_one(x):\n",
        "  return x+1\n",
        "def double_number(x):\n",
        "  return x*2\n",
        "print(\"apply_multiple_functions(5, [add_one,double_number,square]):\", apply_multiple_functions(5, [add_one,double_number,square]))\n",
        "\n",
        "doubler = create_multiplier(2)\n",
        "print(\"doubler(5):\", doubler(5))\n",
        "\n",
        "names = [\"John\", \"alice\", \"Bob\", \"Eve\"]\n",
        "print(\"sort_list(names, str.lower):\", sort_list(names, str.lower))"
      ],
      "metadata": {
        "id": "f8PuKjEvs_zN"
      },
      "execution_count": null,
      "outputs": []
    }
  ]
}