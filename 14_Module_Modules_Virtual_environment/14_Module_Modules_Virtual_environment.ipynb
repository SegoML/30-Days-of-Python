{
  "nbformat": 4,
  "nbformat_minor": 0,
  "metadata": {
    "colab": {
      "provenance": []
    },
    "kernelspec": {
      "name": "python3",
      "display_name": "Python 3"
    },
    "language_info": {
      "name": "python"
    }
  },
  "cells": [
    {
      "cell_type": "code",
      "execution_count": null,
      "metadata": {
        "id": "gQBjnM4KwziM"
      },
      "outputs": [],
      "source": [
        "# Module 14 - Modules and Virtual Environments\n",
        "# This module focuses on understanding how to use modules in Python, including:\n",
        "# - Importing modules\n",
        "# - Creating your own modules\n",
        "# - Using virtual environments\n"
      ]
    },
    {
      "cell_type": "code",
      "source": [
        "# Exercises: Level 1\n",
        "\n",
        "# 1. What is a module in Python?\n",
        "#    (Comment Explanation)\n",
        "#    # A module is a file containing Python definitions and statements.\n",
        "#    # It allows you to organize code into reusable parts, keeping different components modular.\n",
        "\n",
        "# 2. How to import a module in Python? Provide different import statements.\n",
        "#    (Examples in code)\n",
        "\n",
        "# Basic import\n",
        "import math\n",
        "print(f\"Pi from math module: {math.pi}\")\n",
        "\n",
        "# Import with alias\n",
        "import datetime as dt\n",
        "print(f\"Current datetime from datetime module: {dt.datetime.now()}\")\n",
        "\n",
        "\n",
        "# Import specific components from a module\n",
        "from os import path\n",
        "print(f\"The existence of 'my_file.txt' {path.exists('my_file.txt')}\")\n",
        "\n",
        "# 3. What is the difference between `import module` and `from module import`?\n",
        "#    (Comment Explanation)\n",
        "#    # `import module` imports the entire module. You access functions using `module.function()`\n",
        "#    # `from module import function` imports only the named function(s). You can use the function directly: `function()`\n",
        "\n",
        "# 4. What is a virtual environment?\n",
        "#   (Comment Explanation)\n",
        "#    # A virtual environment is an isolated space where you create a specific setup for python projects.\n",
        "#    # This helps manage package dependencies on a per-project basis without system-wide modifications.\n",
        "\n",
        "# 5. Why is it a good practice to use virtual environment?\n",
        "#    (Comment Explanation)\n",
        "#    # It ensures that project dependencies do not conflict between projects.\n",
        "#    # It allows you to have a consistent and repeatable environment for your applications.\n",
        "#    # It prevents your system python environment from getting bloated or corrupted with project specific dependencies"
      ],
      "metadata": {
        "id": "skP40asdca3s"
      },
      "execution_count": null,
      "outputs": []
    },
    {
      "cell_type": "code",
      "source": [
        "# Code that would be in a separate module.py file\n",
        "# The actual file is not needed for Google Colab (but is provided for context and practice)\n",
        "# To test it you can add a folder called \"mymodule\" and add this file to it.\n",
        "\n",
        "def greeting(name):\n",
        "    \"\"\"Greets the person passed in as a parameter with a string.\"\"\"\n",
        "    return f\"Hello, {name}!\"\n",
        "\n",
        "def add_numbers(x, y):\n",
        "    \"\"\"Sums two numbers together.\"\"\"\n",
        "    return x + y\n",
        "\n",
        "def multiply_numbers(x, y):\n",
        "    \"\"\"Multiplies two numbers together.\"\"\"\n",
        "    return x * y\n",
        "\n",
        "MY_CONSTANT = 100"
      ],
      "metadata": {
        "id": "IH5VehImca0c"
      },
      "execution_count": null,
      "outputs": []
    },
    {
      "cell_type": "code",
      "source": [
        "# Exercises: Level 2\n",
        "\n",
        "# 1. Create a simple module named `mymodule.py`. The module should have a function which adds two numbers.\n",
        "#     (See the content of module.py in Cell 3)\n",
        "\n",
        "# 2. Import the above-created `mymodule.py` module into the Colab notebook.\n",
        "\n",
        "# To mimic this, we must place the file module.py in a folder called mymodule, so the correct import works.\n",
        "# sys.path.append('./mymodule') # We can do this if we have a subfolder called \"mymodule\"\n",
        "\n",
        "# 3. Call the function which adds the numbers from `mymodule.py` to return the sum of 10 and 20.\n",
        "\n",
        "# Here we are showing how to use the module if it was created (this file does not need to exist as it is only for demonstration).\n",
        "\n",
        "import sys\n",
        "sys.path.append('./') # add current directory as a path\n",
        "try:\n",
        "  import module  # or import mymodule if you had a mymodule folder.\n",
        "  print(\"module.add_numbers(10, 20):\", module.add_numbers(10, 20))\n",
        "except Exception as e:\n",
        "    print(f\"Error loading the file 'module.py'. Please ensure the folder named 'module' has been added, and the file module.py has also been added. The file module.py should have the following: {e}\")\n",
        "    print(\"\\n\")\n",
        "    print(\"\"\" def greeting(name):\n",
        "    \\\"\\\"\\\"Greets the person passed in as a parameter with a string.\\\"\\\"\\\"\n",
        "    return f\"Hello, {name}!\"\n",
        "\n",
        "def add_numbers(x, y):\n",
        "    \\\"\\\"\\\"Sums two numbers together.\\\"\\\"\\\"\n",
        "    return x + y\n",
        "\n",
        "def multiply_numbers(x, y):\n",
        "    \\\"\\\"\\\"Multiplies two numbers together.\\\"\\\"\\\"\n",
        "    return x * y\n",
        "\n",
        "MY_CONSTANT = 100\"\"\")\n",
        "\n",
        "# 4. Print the greeting function from `mymodule.py` using an alias.\n",
        "try:\n",
        "  import module as mod # or import mymodule as mod\n",
        "  print(f\"mod.greeting('Alice'):\", mod.greeting(\"Alice\"))\n",
        "except Exception as e:\n",
        "  print(f\"Error: {e}\")\n",
        "\n",
        "\n",
        "# 5. Print MY_CONSTANT from `mymodule.py`.\n",
        "\n",
        "try:\n",
        "    import module #or import mymodule\n",
        "    print(\"module.MY_CONSTANT:\", module.MY_CONSTANT)\n",
        "except Exception as e:\n",
        "    print(f\"Error: {e}\")"
      ],
      "metadata": {
        "id": "i9n91SxFcawn"
      },
      "execution_count": null,
      "outputs": []
    },
    {
      "cell_type": "code",
      "source": [
        "# Exercises: Level 3\n",
        "\n",
        "# 1. Explain how you would set up a virtual environment for a Python project.\n",
        "#    (Comment Explanation)\n",
        "#   # 1. Open terminal or command prompt.\n",
        "#   # 2. Navigate to your project directory: `cd project_dir`.\n",
        "#   # 3. Create a virtual environment: `python3 -m venv venv` or `python -m venv venv`.\n",
        "#   # 4. Activate the virtual environment.\n",
        "#   #    - On Linux/MacOS: `source venv/bin/activate`.\n",
        "#   #    - On Windows: `venv\\Scripts\\activate`.\n",
        "#   # 5. Install your dependencies: `pip install -r requirements.txt`\n",
        "#   # 6. Work within the environment and deactivate it when you are done: `deactivate`\n",
        "\n",
        "# 2. How do you create a `requirements.txt` file?\n",
        "#    (Comment Explanation)\n",
        "#    # To generate a requirements.txt file use the following command: `pip freeze > requirements.txt`.\n",
        "#    # This command lists all the installed packages with their versions in your virtual environment\n",
        "\n",
        "# 3.  Install a library called `requests` in your virtual environment.\n",
        "#       (Comment Explanation)\n",
        "#    # If you are inside a virtual environment you can do it with the following command: `pip install requests`\n",
        "#    # You may have to run this in the Colab terminal or a local environment, there is no way to do it directly here.\n",
        "\n",
        "# 4. Create a main.py file and write code to call functions from different modules.\n",
        "# (No code for creating the file here - this is just an explanation. You would do this locally.\n",
        "# example `main.py`:\n",
        "#     import math\n",
        "#     from module import greeting\n",
        "#     print(math.sqrt(16)) # call a function from the math module\n",
        "#     print(greeting(\"John\")) #call a function from \"module.py\"\n",
        "\n",
        "# 5.  What is the purpose of using `__name__ == '__main__'` in Python?\n",
        "#   (Comment Explanation)\n",
        "#    # It allows code to be executed only if the file is run as a main program.\n",
        "#    # The code in this block is skipped when the file is imported as a module into another script."
      ],
      "metadata": {
        "id": "RyhNRHpYcaf5"
      },
      "execution_count": null,
      "outputs": []
    }
  ]
}