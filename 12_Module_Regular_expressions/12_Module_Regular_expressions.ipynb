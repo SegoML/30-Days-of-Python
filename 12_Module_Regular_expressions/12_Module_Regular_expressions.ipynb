{
  "nbformat": 4,
  "nbformat_minor": 0,
  "metadata": {
    "colab": {
      "provenance": []
    },
    "kernelspec": {
      "name": "python3",
      "display_name": "Python 3"
    },
    "language_info": {
      "name": "python"
    }
  },
  "cells": [
    {
      "cell_type": "code",
      "execution_count": null,
      "metadata": {
        "id": "DRU7YvXNuX18"
      },
      "outputs": [],
      "source": [
        "# Module 12 - Regular Expressions\n",
        "# This module focuses on using regular expressions (regex) in Python for pattern matching.\n",
        "# We will be using the 're' module for this.\n",
        "\n",
        "import re"
      ]
    },
    {
      "cell_type": "code",
      "source": [
        "# Exercises: Level 1\n",
        "\n",
        "# 1. What is a regular expression?\n",
        "#    (Comment explanation)\n",
        "#    # A regular expression is a sequence of characters that define a search pattern.\n",
        "#    # They are used for text searching and manipulation.\n",
        "\n",
        "# 2. What is the purpose of using regular expressions in Python?\n",
        "#    (Comment explanation)\n",
        "#    # Regular expressions are used to match patterns in strings, like:\n",
        "#    # - validating input (e.g., email format)\n",
        "#    # - searching and extracting information\n",
        "#    # - modifying text (e.g., replacing patterns)\n",
        "\n",
        "# 3. Write a regular expression that matches the word \"python\" or \"Python\".\n",
        "pattern1 = r\"[Pp]ython\"\n",
        "\n",
        "# 4. Write a regular expression that matches the word \"30\" followed by \"Days\"\n",
        "pattern2 = r\"30Days\"\n",
        "\n",
        "# 5. Write a regular expression that matches any single digit.\n",
        "pattern3 = r\"\\d\"\n",
        "\n",
        "# 6. Write a regular expression that matches any single character (except newline)\n",
        "pattern4 = r\".\"\n",
        "\n",
        "# 7. Write a regular expression that matches any character.\n",
        "pattern5 = r\"[\\s\\S]\" #This is a bit more general. (you could also do r\".\", but if there are multiline strings this will not work)\n",
        "\n",
        "# 8. Write a regular expression that matches any character from a to z.\n",
        "pattern6 = r\"[a-z]\"\n",
        "\n",
        "# 9. Write a regular expression that matches any character from A to Z.\n",
        "pattern7 = r\"[A-Z]\"\n",
        "\n",
        "# 10. Write a regular expression that matches any character from 0 to 9.\n",
        "pattern8 = r\"[0-9]\"\n",
        "\n",
        "# Test Cases (will be used in a later cell)\n",
        "\n",
        "text1 = \"Python is a popular language\"\n",
        "text2 = \"30Days of Python\"\n",
        "text3 = \"The number is 7\"\n",
        "text4 = \"A.B.C\"\n",
        "text5 = \"This \\n is \\n a multiline \\n string\"\n",
        "text6 = \"a b c\"\n",
        "text7 = \"A B C\"\n",
        "text8 = \"123\""
      ],
      "metadata": {
        "id": "WU5jvea_vJMZ"
      },
      "execution_count": null,
      "outputs": []
    },
    {
      "cell_type": "code",
      "source": [
        "# Exercises: Level 2\n",
        "\n",
        "# 1. Write a regular expression that matches one or more digits.\n",
        "pattern9 = r\"\\d+\"\n",
        "\n",
        "# 2. Write a regular expression that matches zero or more digits.\n",
        "pattern10 = r\"\\d*\"\n",
        "\n",
        "# 3. Write a regular expression that matches a word that starts with \"a\" or \"A\"\n",
        "pattern11 = r\"[aA]\\w*\"\n",
        "\n",
        "# 4. Write a regular expression that matches the word \"date\" with any casing.\n",
        "pattern12 = r\"[dD][aA][tT][eE]\"\n",
        "\n",
        "# 5. Write a regular expression that matches a valid email address.\n",
        "pattern13 = r\"^[a-zA-Z0-9._%+-]+@[a-zA-Z0-9.-]+\\.[a-zA-Z]{2,}$\"\n",
        "\n",
        "\n",
        "# Test Cases (will be used in a later cell)\n",
        "text9 = \"The number is 12345\"\n",
        "text10 = \"There are no numbers here\"\n",
        "text11 = \"apple banana orange\"\n",
        "text12 = \"Today's date is 2023/10/26\"\n",
        "text13 = \"test@example.com\"\n",
        "text14 = \"invalid.email\""
      ],
      "metadata": {
        "id": "2M9kqUDpvO9_"
      },
      "execution_count": null,
      "outputs": []
    },
    {
      "cell_type": "code",
      "source": [
        "# Exercises: Level 3\n",
        "\n",
        "# 1. Write a function which returns the list of matched words.\n",
        "def find_matches(text, pattern):\n",
        "    return re.findall(pattern, text)\n",
        "\n",
        "# 2. Write a function which replaces the matched word.\n",
        "def replace_matches(text, pattern, replacement):\n",
        "  return re.sub(pattern, replacement, text)\n",
        "\n",
        "# 3. Use the function from the above exercise to replace all the \"Python\" or \"python\" with \"JavaScript\".\n",
        "\n",
        "def replace_python_with_js(text):\n",
        "  return replace_matches(text, r\"[Pp]ython\", \"JavaScript\")\n",
        "\n",
        "# 4. Write a function which takes a string and returns its list of words.\n",
        "\n",
        "def extract_words(text):\n",
        "  return find_matches(text, r\"\\b\\w+\\b\")"
      ],
      "metadata": {
        "id": "DiDXXJpfvTkX"
      },
      "execution_count": null,
      "outputs": []
    },
    {
      "cell_type": "code",
      "source": [
        "# Test Cases and Usage\n",
        "\n",
        "# Level 1 Tests\n",
        "print(\"Level 1 Tests:\")\n",
        "print(\"match_text1:\", re.search(pattern1, text1))\n",
        "print(\"match_text2:\", re.search(pattern2, text2))\n",
        "print(\"match_text3:\", re.search(pattern3, text3))\n",
        "print(\"match_text4:\", re.search(pattern4, text4))\n",
        "print(\"match_text5:\", re.search(pattern5, text5))\n",
        "print(\"match_text6:\", re.search(pattern6, text6))\n",
        "print(\"match_text7:\", re.search(pattern7, text7))\n",
        "print(\"match_text8:\", re.search(pattern8, text8))\n",
        "\n",
        "\n",
        "# Level 2 Tests\n",
        "print(\"\\nLevel 2 Tests:\")\n",
        "print(\"match_text9:\", re.search(pattern9, text9))\n",
        "print(\"match_text10:\", re.search(pattern10, text10))\n",
        "print(\"match_text11:\", re.findall(pattern11, text11))\n",
        "print(\"match_text12:\", re.search(pattern12, text12))\n",
        "print(\"match_text13:\", re.match(pattern13, text13))\n",
        "print(\"match_text14:\", re.match(pattern13, text14))\n",
        "\n",
        "# Level 3 Tests\n",
        "print(\"\\nLevel 3 Tests:\")\n",
        "print(\"find_matches('apple banana orange', r'a\\w*'):\", find_matches(\"apple banana orange\", r\"a\\w*\"))\n",
        "print(\"replace_matches('apple banana orange', 'banana', 'kiwi'):\", replace_matches(\"apple banana orange\", \"banana\", \"kiwi\"))\n",
        "print(\"replace_python_with_js('Python is great, python too'):\", replace_python_with_js(\"Python is great, python too\"))\n",
        "print(\"extract_words('This is a test'):\", extract_words(\"This is a test\"))"
      ],
      "metadata": {
        "id": "xSy6erO9vTVv"
      },
      "execution_count": null,
      "outputs": []
    }
  ]
}