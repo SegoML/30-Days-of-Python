{
 "cells": [
  {
   "cell_type": "markdown",
   "metadata": {},
   "source": [
    "## Execises: Module 6 - Dictionaries"
   ]
  },
  {
   "cell_type": "code",
   "execution_count": null,
   "metadata": {},
   "outputs": [],
   "source": [
    "# 1. Create an empty dictionary called dog\n",
    "\n",
    "dog = {}\n",
    "print(dog)"
   ]
  },
  {
   "cell_type": "code",
   "execution_count": null,
   "metadata": {},
   "outputs": [],
   "source": [
    "# 2. Add name, color, breed, legs, age to the dog dictionary\n",
    "\n",
    "dog['name']: 'Bingo'\n",
    "dog['color']: 'Brown'\n",
    "dog['breed']: 'Golden Retriever'\n",
    "dog['legs']: 4\n",
    "dog['age']: 2\n",
    "\n",
    "print(dog)\n"
   ]
  },
  {
   "cell_type": "code",
   "execution_count": null,
   "metadata": {},
   "outputs": [],
   "source": [
    "# 3. Create a student dictionary and add first_name, last_name, gender, age, \n",
    "# marital status, skills, country, city and address as keys for the dictionary\n",
    "\n",
    "student = {\n",
    "    'first_name': 'Assanatou',\n",
    "    'last_name': 'Bah',\n",
    "    'gender': 'Female',\n",
    "    'age': 30,\n",
    "    'marital_status': 'Married',\n",
    "    'skills': ['Excel', 'SQL', 'PowerBI'],\n",
    "    'country': 'The Gambia',\n",
    "    'city': 'Banjul',\n",
    "    'address': 'Bundung, Serekunda, The Gambia'\n",
    "}\n",
    "\n",
    "print(student)\n"
   ]
  },
  {
   "cell_type": "code",
   "execution_count": null,
   "metadata": {},
   "outputs": [],
   "source": [
    "# 4. Get the length of the student dictionary\n",
    " \n",
    "print(len(student))"
   ]
  },
  {
   "cell_type": "code",
   "execution_count": null,
   "metadata": {},
   "outputs": [],
   "source": [
    "# 5. Get the value of skills and check the data type, it should be a list\n",
    "\n",
    "print(student.get('skills'))\n",
    "print(type(student['skills']))"
   ]
  },
  {
   "cell_type": "code",
   "execution_count": null,
   "metadata": {},
   "outputs": [],
   "source": [
    "# 6. Modify the skills values by adding one or two skills\n",
    "\n",
    "student['skills'].append('Tableau')\n",
    "student['skills'].append('Python')\n",
    "\n",
    "print(student)"
   ]
  },
  {
   "cell_type": "code",
   "execution_count": null,
   "metadata": {},
   "outputs": [],
   "source": [
    "# 7. Get the dictionary keys as a list\n",
    "\n",
    "print(student.keys())"
   ]
  },
  {
   "cell_type": "code",
   "execution_count": null,
   "metadata": {},
   "outputs": [],
   "source": [
    "# 8. Get the dictionary values as a list\n",
    "\n",
    "print(student.values())"
   ]
  },
  {
   "cell_type": "code",
   "execution_count": null,
   "metadata": {},
   "outputs": [],
   "source": [
    "# 9. Change the dictionary to a list of tuples using items() method\n",
    "\n",
    "print(student.items())"
   ]
  },
  {
   "cell_type": "code",
   "execution_count": null,
   "metadata": {},
   "outputs": [],
   "source": [
    "# 10. Delete one of the items in the dictionary\n",
    "\n",
    "del student['address']\n",
    "print(student)"
   ]
  },
  {
   "cell_type": "code",
   "execution_count": null,
   "metadata": {},
   "outputs": [],
   "source": [
    "# 11. Delete one of the dictionaries\n",
    "\n",
    "del student\n",
    "print(student)"
   ]
  }
 ],
 "metadata": {
  "kernelspec": {
   "display_name": "Python 3",
   "language": "python",
   "name": "python3"
  },
  "language_info": {
   "codemirror_mode": {
    "name": "ipython",
    "version": 3
   },
   "file_extension": ".py",
   "mimetype": "text/x-python",
   "name": "python",
   "nbconvert_exporter": "python",
   "pygments_lexer": "ipython3",
   "version": "3.11.3"
  }
 },
 "nbformat": 4,
 "nbformat_minor": 2
}
