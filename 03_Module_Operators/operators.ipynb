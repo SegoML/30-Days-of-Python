{
 "cells": [
  {
   "cell_type": "markdown",
   "metadata": {},
   "source": [
    "## Execises: Module 3 - Operators\n"
   ]
  },
  {
   "cell_type": "code",
   "execution_count": null,
   "metadata": {},
   "outputs": [],
   "source": [
    "# 1. Declare your age as integer variable\n",
    "age = 21\n",
    "\n",
    "# 2. Declare your height as a float variable\n",
    "height = 1.85\n",
    "\n",
    "# 3. Declare a variable that stores a complex number\n",
    "complex_num = 1+2j"
   ]
  },
  {
   "cell_type": "code",
   "execution_count": null,
   "metadata": {},
   "outputs": [],
   "source": [
    "# 5. Write a script that prompts the user to enter base and height of the triangle and calculate an area of this triangle (area = 0.5 x b x h)\n",
    "\n",
    "base = float(input('Enter the base: '))\n",
    "height = float(input('Enter the height: '))\n",
    "area = 0.5 * base * height\n",
    "print('The area of the triangle is: ', area)"
   ]
  },
  {
   "cell_type": "code",
   "execution_count": null,
   "metadata": {},
   "outputs": [],
   "source": [
    "# 5. Write a script that prompts the user to enter side a, side b, and side c of the triangle. Calculate the perimeter of the triangle (perimeter = a + b + c).\n",
    "\n",
    "side_a = int(input('Enter the side a: '))\n",
    "side_b = int(input('Enter the side b: '))\n",
    "side_c = int(input('Enter the side c: '))\n",
    "perimeter = side_a + side_b + side_c\n",
    "print('The perimeter of the triangle is: ', perimeter)"
   ]
  },
  {
   "cell_type": "code",
   "execution_count": null,
   "metadata": {},
   "outputs": [],
   "source": [
    "# 6. Get length and width of a rectangle using prompt. Calculate its area (area = length x width) and perimeter (perimeter = 2 x (length + width))\n",
    "\n",
    "length = int(input('Enter the length: '))\n",
    "width = int(input('Enter the width: '))\n",
    "area = length * width\n",
    "perimeter = 2 * (length + width)\n",
    "print('The area of the rectangle is: ', area)\n",
    "print('The perimeter of the rectangle is: ', perimeter)\n"
   ]
  },
  {
   "cell_type": "code",
   "execution_count": null,
   "metadata": {},
   "outputs": [],
   "source": [
    "# 7. Get the radius of a circle using prompt. Calculate the area (area = pi x r x r) and circumference (c = 2 x pi x r) where pi = 3.14.\n",
    "\n",
    "radius = float(input('Enter the radius: '))\n",
    "area = 3.14 * radius * radius\n",
    "circumference = 2 * 3.14 * radius\n",
    "print('The area of the circle is: ', area)\n",
    "print('The circumference of the circle is: ', circumference)"
   ]
  },
  {
   "cell_type": "code",
   "execution_count": null,
   "metadata": {},
   "outputs": [],
   "source": [
    "# 8. Calculate the slope, x-intercept and y-intercept of y = 2x -2\n",
    "\n",
    "slope1 = 2\n",
    "x_intercept = -2\n",
    "y_intercept = 0 - (2 * -2)\n",
    "print('The slope is: ', slope1)\n",
    "print('The x-intercept is: ', x_intercept)\n",
    "print('The y-intercept is: ', y_intercept)"
   ]
  },
  {
   "cell_type": "code",
   "execution_count": null,
   "metadata": {},
   "outputs": [],
   "source": [
    "# 9. Slope is m = (y2-y1)/(x2-x1). Find the slope and euclidean distance between point (2, 2) and point(6,10)\n",
    "\n",
    "x1 = 2\n",
    "y1 = 2\n",
    "x2 = 6\n",
    "y2 = 10\n",
    "\n",
    "slope2 = (y2 - y1) / (x2 - x1)\n",
    "euclidean_distance = ((10 - 2) ** 2 + (6 - 2) ** 2) ** 0.5\n",
    "print('The slope is: ', slope2)\n",
    "print('The euclidean distance is: ', euclidean_distance)    "
   ]
  },
  {
   "cell_type": "code",
   "execution_count": null,
   "metadata": {},
   "outputs": [],
   "source": [
    "# 10. Compare the slopes in tasks 8 and 9.\n",
    "\n",
    "comp = slope1 == slope2\n",
    "print('The slopes in tasks 8 and 9 are: ', comp)     "
   ]
  },
  {
   "cell_type": "code",
   "execution_count": null,
   "metadata": {},
   "outputs": [],
   "source": [
    "# 11. calculate the value of y (y = x^2 + 6x + 9). Try to use different x values and figure out at what x value y is 0.\n",
    "\n",
    "x = int(input('Enter the value of x: '))\n",
    "y = x**2 + 6*x + 9   # Value of x for which y is 0 = -3\n",
    "print('The value of y is: ', y)"
   ]
  },
  {
   "cell_type": "code",
   "execution_count": null,
   "metadata": {},
   "outputs": [],
   "source": [
    "# 12. find the length of 'python' and 'dragon' and make a falsy comparison\n",
    "\n",
    "print(len('python'))\n",
    "print(len('dragon'))\n",
    "comp = len('python') != len('dragon')\n",
    "print('The length of python and dragon is:', comp)"
   ]
  },
  {
   "cell_type": "code",
   "execution_count": null,
   "metadata": {},
   "outputs": [],
   "source": [
    "# 13. Use and operator to check if 'on' is found in both 'python' and 'dragon'\n",
    "\n",
    "comp = 'on' in 'python' and 'on' in 'dragon'\n",
    "print('The letter \"on\" is found in both \"python\" and \"dragon\": ', comp)"
   ]
  },
  {
   "cell_type": "code",
   "execution_count": null,
   "metadata": {},
   "outputs": [],
   "source": [
    "# 14.  I hope this course is not full of jargon. Use in operator to check if jargon is in the sentence.\n",
    "\n",
    "sentence = 'I hope this course is not full of jargon'\n",
    "comp = 'jargon' in sentence\n",
    "print('The word \"jargon\" is in the sentence: ', comp)"
   ]
  },
  {
   "cell_type": "code",
   "execution_count": null,
   "metadata": {},
   "outputs": [],
   "source": [
    "# 15. there is no 'on' in both dragon and python\n",
    "\n",
    "comp = 'on' not in 'python' and 'on' not in 'dragon'\n",
    "print('There is no \"on\" in both \"python\" and \"dragon\": ', comp)"
   ]
  },
  {
   "cell_type": "code",
   "execution_count": null,
   "metadata": {},
   "outputs": [],
   "source": [
    "# 16. find the length of the text python and convert the value to float and convert it to string\n",
    "\n",
    "print(len('python'))\n",
    "print(float(len('python')))\n",
    "print(str(len('python')))"
   ]
  },
  {
   "cell_type": "code",
   "execution_count": null,
   "metadata": {},
   "outputs": [],
   "source": [
    "# 17. Even numbers are divisible by 2 and the remainder is zero. How do you check if a number is even or not using python?\n",
    "\n",
    "num = int(input('Enter a number: '))\n",
    "if num % 2 == 0:\n",
    "    print(f'{num} is even')    \n",
    "else:\n",
    "    print(f'{num} is not even')      "
   ]
  },
  {
   "cell_type": "code",
   "execution_count": null,
   "metadata": {},
   "outputs": [],
   "source": [
    "# 18. check if the floor division of 7 by 3 is equal to the int conversion of 2.7\n",
    "\n",
    "comp = 7 // 3 == int(2.7)\n",
    "print('The floor division of 7 by 3 is equal to the int conversion of 2.7: ', comp)\n"
   ]
  },
  {
   "cell_type": "code",
   "execution_count": null,
   "metadata": {},
   "outputs": [],
   "source": [
    "# 19. check if type of '10' is equal to type of 10\n",
    "\n",
    "comp = type('10') == type(10)\n",
    "print('The type of \"10\" is equal to the type of 10.0: ', comp)"
   ]
  },
  {
   "cell_type": "code",
   "execution_count": null,
   "metadata": {},
   "outputs": [],
   "source": [
    "# 20. check if int('9.8') is equal to 10\n",
    "\n",
    "comp = int(float('9.8')) == 10 \n",
    "print(\"int(9.8) is equal to 10: \", comp)"
   ]
  },
  {
   "cell_type": "code",
   "execution_count": null,
   "metadata": {},
   "outputs": [],
   "source": [
    "# 21. Write a script that prompts the user to enter hours and rate per hour. Calculate pay of the person?\n",
    "\n",
    "hours = float(input('Enter the hours: '))\n",
    "rate = float(input('Enter the rate per hour: '))\n",
    "pay = hours * rate\n",
    "print('Your weekly earning is: ', pay)"
   ]
  },
  {
   "cell_type": "code",
   "execution_count": null,
   "metadata": {},
   "outputs": [],
   "source": [
    "# 22. Write a script that prompts the user to enter number of years. Calculate the number of seconds a person can live. Assume a person can live hundred years\n",
    "\n",
    "years = int(input('Enter the number of years: '))\n",
    "seconds = years * 365 * 24 * 60 * 60\n",
    "print('You have lived for: ', seconds, 'seconds')"
   ]
  },
  {
   "cell_type": "code",
   "execution_count": null,
   "metadata": {},
   "outputs": [],
   "source": [
    "# 23. write a python script that displayes the following table\n",
    "        # 1 1 1 1 1\n",
    "        # 2 1 2 4 8\n",
    "        # 3 1 3 9 27\n",
    "        # 4 1 4 16 64\n",
    "        # 5 1 5 25 125\n",
    "\n",
    "\n",
    "print(\"1\\t1\\t1\\t1\\t1\")\n",
    "for i in range(2, 6):\n",
    "    print(f\"{i}\\t1\\t{i}\\t{i**2}\\t{i**3}\")\n",
    "                     "
   ]
  }
 ],
 "metadata": {
  "kernelspec": {
   "display_name": "base",
   "language": "python",
   "name": "python3"
  },
  "language_info": {
   "codemirror_mode": {
    "name": "ipython",
    "version": 3
   },
   "file_extension": ".py",
   "mimetype": "text/x-python",
   "name": "python",
   "nbconvert_exporter": "python",
   "pygments_lexer": "ipython3",
   "version": "3.10.9"
  }
 },
 "nbformat": 4,
 "nbformat_minor": 2
}
