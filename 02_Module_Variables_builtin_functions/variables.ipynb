{
 "cells": [
  {
   "cell_type": "markdown",
   "metadata": {},
   "source": [
    "# Day 2: 30 Days of python programming"
   ]
  },
  {
   "cell_type": "markdown",
   "metadata": {},
   "source": [
    "## Excercise: Level 1\n"
   ]
  },
  {
   "cell_type": "code",
   "execution_count": 10,
   "metadata": {},
   "outputs": [],
   "source": [
    "# 1. Declare a first name variable and assign a value to it\n",
    "\n",
    "first_name = 'Masego'\n",
    "\n",
    "# 2. Declare a last name variable and assign a value to it\n",
    "last_name = 'Letsoko'\n",
    "\n",
    "# 3. Declare a full name variable and assign a value to it\n",
    "full_name = first_name + ' ' + last_name\n",
    "\n",
    "# 4. Declare a country variable and assign a value to it\n",
    "country = 'South Africa'\n",
    "\n",
    "# 5. Declare a city variable and assign a value to it\n",
    "city = 'Johannesburg'\n",
    "\n",
    "# 6. Declare an age variable and assign a value to it\n",
    "age = 26\n",
    "\n",
    "# 7. Declare a year variable and assign a value to it\n",
    "year = 2024\n",
    "\n",
    "# 8. Declare a variable called is_married and assign a value to it\n",
    "is_married = False\n",
    "\n",
    "# 9. Declare a variable called is_true and assign a value to it\n",
    "is_true = False\n",
    "\n",
    "# 10. Declare a variable called is_light_on and assign a value to it\n",
    "is_light_on = True\n",
    " \n",
    "#11. Declare multiple variable on one line\n",
    "languages_spoken = ['English', 'Sesotho', 'Zulu']\n"
   ]
  },
  {
   "cell_type": "markdown",
   "metadata": {},
   "source": [
    "## Excercise: Level 2\n"
   ]
  },
  {
   "cell_type": "code",
   "execution_count": null,
   "metadata": {},
   "outputs": [],
   "source": [
    "# Print the type of the variable\n",
    "\n",
    "print(type(first_name))  \n",
    "print(type(last_name))      \n",
    "print(type(country))     \n",
    "print(type(city))        \n",
    "print(type(age))         \n",
    "print(type(year))        \n",
    "print(type(is_married))  \n",
    "print(type(is_true))     \n",
    "print(type(is_light_on)) \n",
    "print(type(languages_spoken))           "
   ]
  },
  {
   "cell_type": "code",
   "execution_count": null,
   "metadata": {},
   "outputs": [],
   "source": [
    "# 2 Using the len() built-in function, find the length of your first name\n",
    "\n",
    "len(first_name)"
   ]
  },
  {
   "cell_type": "code",
   "execution_count": null,
   "metadata": {},
   "outputs": [],
   "source": [
    "# 3. Compare the length of your first name and your last name\n",
    "len(first_name) == len(last_name)\n"
   ]
  },
  {
   "cell_type": "code",
   "execution_count": null,
   "metadata": {},
   "outputs": [],
   "source": [
    "# 4. Declare 5 as num_one and 4 as num_two\n",
    "num_one = 5\n",
    "num_two = 4\n",
    "\n",
    "# 5. Add num_one and num_two and assign the value to a variable total\n",
    "total = num_one + num_two\n",
    "\n",
    "# 6. Subtract num_two from num_one and assign the value to a variable diff\n",
    "diff = num_one - num_two\n",
    "\n",
    "# 7. Multiply num_two with num_one and assign the value to a variable product\n",
    "product = num_two * num_one\n",
    "\n",
    "# 8. Divide num_one by num_two and assign the value to a variable division\n",
    "division = num_one / num_two\n",
    "\n",
    "# 9. Use the modulo division to find num_two divided by num_one and assign the value to a variable remainder\n",
    "remainder = num_two % num_one\n",
    "\n",
    "# 10. Calculate num_one to the power of num_two and assign the value to a variable exp\n",
    "exp = num_one ** num_two\n",
    "\n",
    "# 11. Find the floor division of num_one and num_two and assign the value to a variable floor_division\n",
    "floor_division = num_one // num_two\n",
    "\n",
    "\n",
    "# Printing all values \n",
    "print('Total: ', total)\n",
    "print('Difference: ', diff)\n",
    "print('Product: ', product)\n",
    "print('Division: ', div)\n",
    "print('Remainder: ', remainder)\n",
    "print('Exponent: ', exp)\n",
    "print('Floor division: ', floor_division)"
   ]
  },
  {
   "cell_type": "code",
   "execution_count": null,
   "metadata": {},
   "outputs": [],
   "source": [
    "# 12. The radius of a circle is 30 meters. \n",
    "    # Calculate the area of the circle and assign the value to a variable name of area_of_circle\n",
    "    # calculate the circumference of a circle and assign the value to a variable name of circum_of_circle\n",
    "    # Take radius as input from the user and calculate the area\n",
    "\n",
    "radius = 30\n",
    "area_of_circle = 3.14 * radius ** 2\n",
    "circum_of_circle = 2 * 3.14 * radius\n",
    "print(area_of_circle)\n",
    "print(circum_of_circle)\n",
    "\n",
    "radius = int(input('Enter the radius of a circle:'))\n",
    "area_of_circle = 3.14 * radius ** 2\n",
    "print(area_of_circle)"
   ]
  },
  {
   "cell_type": "code",
   "execution_count": null,
   "metadata": {},
   "outputs": [],
   "source": [
    "# 13. Use the built-in input function to get first name, last name, country and age from a user \n",
    "# and store the value to their corresponding variable names\n",
    "\n",
    "first_name = input('Enter your first name:')\n",
    "last_name = input('Enter your last name:')\n",
    "country = input('Enter your country:')\n",
    "age = int(input('Enter your age:'))\n",
    "\n",
    "print('First name:', first_name)\n",
    "print('Last name:', last_name)\n",
    "print('Country:', country)\n",
    "print('Age:', age)"
   ]
  },
  {
   "cell_type": "code",
   "execution_count": null,
   "metadata": {},
   "outputs": [],
   "source": [
    "# 14. Run help('keywords') in Python shell or in your file to check for the Python reserved words or keywords\n",
    "help('keywords')"
   ]
  }
 ],
 "metadata": {
  "kernelspec": {
   "display_name": "Python 3",
   "language": "python",
   "name": "python3"
  },
  "language_info": {
   "codemirror_mode": {
    "name": "ipython",
    "version": 3
   },
   "file_extension": ".py",
   "mimetype": "text/x-python",
   "name": "python",
   "nbconvert_exporter": "python",
   "pygments_lexer": "ipython3",
   "version": "3.11.3"
  }
 },
 "nbformat": 4,
 "nbformat_minor": 2
}
