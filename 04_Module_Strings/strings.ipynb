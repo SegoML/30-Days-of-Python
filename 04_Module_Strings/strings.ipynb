{
 "cells": [
  {
   "cell_type": "markdown",
   "metadata": {},
   "source": [
    "## Execises: Module 4 - Strings"
   ]
  },
  {
   "cell_type": "code",
   "execution_count": null,
   "metadata": {},
   "outputs": [],
   "source": [
    "# 1. Concatenate the string 'Thirty', 'Days', 'Of', 'Python' to a single string, 'Thirty Days Of Python'\n",
    "string1 = 'Thirty'\n",
    "string2 = 'Days'\n",
    "string3 = 'Of'\n",
    "string4 = 'Python'\n",
    "print(string1 + ' ' + string2 + ' ' + string3 + ' ' + string4)"
   ]
  },
  {
   "cell_type": "code",
   "execution_count": null,
   "metadata": {},
   "outputs": [],
   "source": [
    "# 2. Concatenate the string 'Coding', 'For', 'All' to a single string, 'Coding For All'\n",
    "string1 = 'Coding'\n",
    "string2 = 'For'\n",
    "string3 = 'All'\n",
    "print(string1 + ' ' + string2 + ' ' + string3)"
   ]
  },
  {
   "cell_type": "code",
   "execution_count": null,
   "metadata": {},
   "outputs": [],
   "source": [
    "# 3. Declare a variable named company and assign it to an initial value 'Coding For All'\n",
    "company = 'Coding For All'\n",
    "\n",
    "# 4. Print the variable company using a print()   \n",
    "print(company) \n",
    "\n",
    "# 5. Print the length of the company string using len() and print()\n",
    "print(len(company))\n",
    "\n",
    "# 6. Change all the characters in the company variable to uppercase letters using upper() method\n",
    "print(company.upper())\n",
    "\n",
    "# 7. Change all the characters in the company variable to lowercase letters using lower() method\n",
    "print(company.lower())\n"
   ]
  },
  {
   "cell_type": "code",
   "execution_count": null,
   "metadata": {},
   "outputs": [],
   "source": [
    "# 8. Use capitalize(), title(), swapcase() methods to format the value of the company variable \n",
    "company = 'Coding For All'\n",
    "print(company.capitalize())\n",
    "print(company.title())\n",
    "print(company.swapcase())\n"
   ]
  },
  {
   "cell_type": "code",
   "execution_count": null,
   "metadata": {},
   "outputs": [],
   "source": [
    "# 9. Cut(slice) out the first word of the Coding For All string\n",
    "company = 'Coding For All'\n",
    "first_word = company[0:6]\n",
    "print(first_word)\n",
    "\n"
   ]
  },
  {
   "cell_type": "code",
   "execution_count": null,
   "metadata": {},
   "outputs": [],
   "source": [
    "# 10. Check if Coding For All string contains a word Coding using the method index or find\n",
    "company = 'Coding For All'\n",
    "print(company.find('Coding'))\n",
    "print(company.index('Coding'))\n"
   ]
  },
  {
   "cell_type": "code",
   "execution_count": null,
   "metadata": {},
   "outputs": [],
   "source": [
    "# 11. Replace the word coding in the string 'Coding For All' to Python\n",
    "company = 'Coding For All'\n",
    "print(company.replace('Coding', 'Python'))  "
   ]
  },
  {
   "cell_type": "code",
   "execution_count": null,
   "metadata": {},
   "outputs": [],
   "source": [
    "# 12. Change Python for Everyone to Python for All using the replace method or other methods\n",
    "sentence = 'Python for Everyone'\n",
    "print(sentence.replace('Everyone', 'All'))\n"
   ]
  },
  {
   "cell_type": "code",
   "execution_count": null,
   "metadata": {},
   "outputs": [],
   "source": [
    "# 13. Split the string 'Coding For All' using space as the separator (split())\n",
    "company = 'Coding For All'  \n",
    "print(company.split())\n"
   ]
  },
  {
   "cell_type": "code",
   "execution_count": null,
   "metadata": {},
   "outputs": [],
   "source": [
    "# 14. Facebook, Google, Microsoft, Apple, IBM, Oracle, Amazon' split the string at the comma\n",
    "companies = 'Facebook, Google, Microsoft, Apple, IBM, Oracle, Amazon'\n",
    "print(companies.split(','))"
   ]
  },
  {
   "cell_type": "code",
   "execution_count": null,
   "metadata": {},
   "outputs": [],
   "source": [
    "# 15. What is the character at index 0 in the string Coding For All?\n",
    "company = 'Coding For All'\n",
    "print(company[0])\n"
   ]
  },
  {
   "cell_type": "code",
   "execution_count": null,
   "metadata": {},
   "outputs": [],
   "source": [
    "# 16. What is the last index of the string Coding For All?\n",
    "company = 'Coding For All'\n",
    "print(len(company)-1)"
   ]
  },
  {
   "cell_type": "code",
   "execution_count": null,
   "metadata": {},
   "outputs": [],
   "source": [
    "# 17. What character is at index 10 in the string Coding For All?\n",
    "company = 'Coding For All'\n",
    "print(company[10])"
   ]
  },
  {
   "cell_type": "code",
   "execution_count": null,
   "metadata": {},
   "outputs": [],
   "source": [
    "# 18. Create an acronym or an abbreviation for the name 'Python For Everyone'\n",
    "sentence = 'Python For Everyone'\n",
    "print(sentence[0:6:2] + sentence[1:0]) "
   ]
  },
  {
   "cell_type": "code",
   "execution_count": null,
   "metadata": {},
   "outputs": [],
   "source": [
    "# 19. Create an acronym or an abbreviation for the name 'Coding For All'\n",
    "company = 'Coding For All'\n",
    "print(company[0] + company[7] + company[11])  \n",
    "\n",
    "\n"
   ]
  },
  {
   "cell_type": "code",
   "execution_count": null,
   "metadata": {},
   "outputs": [],
   "source": [
    "# 20. Use index to determine the position of the first occurrence of C in Coding For All.\n",
    "company = 'Coding For All'\n",
    "print(company.index('C'))"
   ]
  },
  {
   "cell_type": "code",
   "execution_count": null,
   "metadata": {},
   "outputs": [],
   "source": [
    "# 21. Use index to determine the position of the first occurrence of F in Coding For All.\n",
    "company = 'Coding For All'\n",
    "print(company.index('F'))"
   ]
  },
  {
   "cell_type": "code",
   "execution_count": null,
   "metadata": {},
   "outputs": [],
   "source": [
    "# 22. Use rfind to determine the position of the last occurrence of l in Coding For All People.\n",
    "company = 'Coding For All People'\n",
    "print(company.rfind('l'))"
   ]
  },
  {
   "cell_type": "code",
   "execution_count": null,
   "metadata": {},
   "outputs": [],
   "source": [
    "# 23. Use index or find to determine the position of the first occurrence of the word 'because' in the following sentence:'You cannot end a sentence with because because because is a conjunction'\n",
    "sentence = 'You cannot end a sentence with because because because is a conjunction'\n",
    "print(sentence.index('because'))\n",
    "print(sentence.find('because'))"
   ]
  },
  {
   "cell_type": "code",
   "execution_count": null,
   "metadata": {},
   "outputs": [],
   "source": [
    "# 24. Use rindex to find the position of the last occurrence of the word because in the following sentence: 'You cannot end a sentence with because because because is a conjunction'\n",
    "sentence = 'You cannot end a sentence with because because because is a conjunction'\n",
    "print(sentence.rindex('because'))\n"
   ]
  },
  {
   "cell_type": "code",
   "execution_count": null,
   "metadata": {},
   "outputs": [],
   "source": [
    "# 25. Slice out the phrase 'because because because' in the following sentence:'You cannot end a sentence with because because because is a conjunction'\n",
    "sentence = 'You cannot end a sentence with because because because is a conjunction'\n",
    "print(sentence[31:54])"
   ]
  },
  {
   "cell_type": "code",
   "execution_count": null,
   "metadata": {},
   "outputs": [],
   "source": [
    "# 26. Find the position of the first occurrence of the word 'because' in the following sentence: 'You cannot end a sentence with because because because is a conjunction'\n",
    "sentence = 'You cannot end a sentence with because because because is a conjunction'\n",
    "print(sentence.find('because'))"
   ]
  },
  {
   "cell_type": "code",
   "execution_count": null,
   "metadata": {},
   "outputs": [],
   "source": [
    "# 27. Slice out the phrase 'because because because' in the following sentence:'You cannot end a sentence with because because because is a conjunction'\n",
    "sentence = 'You cannot end a sentence with because because because is a conjunction'\n",
    "print(sentence[31:54])"
   ]
  },
  {
   "cell_type": "code",
   "execution_count": null,
   "metadata": {},
   "outputs": [],
   "source": [
    "# 28. Does 'Coding For All' start with a substring Coding?\n",
    "company = 'Coding For All'\n",
    "print(company.startswith('Coding'))\n"
   ]
  },
  {
   "cell_type": "code",
   "execution_count": null,
   "metadata": {},
   "outputs": [],
   "source": [
    "# 29. Does 'Coding For All' end with a substring coding?\n",
    "company = 'Coding For All'\n",
    "print(company.endswith('coding'))"
   ]
  },
  {
   "cell_type": "code",
   "execution_count": null,
   "metadata": {},
   "outputs": [],
   "source": [
    "# 30. '    Coding For All      ' , remove the left and right trailing spaces in the given string.\n",
    "company = '    Coding For All      '\n",
    "print(company.strip())"
   ]
  },
  {
   "cell_type": "code",
   "execution_count": null,
   "metadata": {},
   "outputs": [],
   "source": [
    "# 31. Which one of the following variables return True when we use the method isidentifier():\n",
    "        # 30DaysOfPython\n",
    "        # thirty_days_of_python\n",
    "\n",
    "print('30DaysOfPython'.isidentifier())\n",
    "print('thirty_days_of_python'.isidentifier())"
   ]
  },
  {
   "cell_type": "code",
   "execution_count": null,
   "metadata": {},
   "outputs": [],
   "source": [
    "# 32. The following list contains the names of some of python libraries: ['Django', 'Flask', 'Bottle', 'Pyramid', 'Falcon']. Join the list with a hash with space string.\n",
    "libraries = ['Django', 'Flask', 'Bottle', 'Pyramid', 'Falcon']\n",
    "print('# '.join(libraries))\n"
   ]
  },
  {
   "cell_type": "code",
   "execution_count": null,
   "metadata": {},
   "outputs": [],
   "source": [
    "# 33. Use the new line escape sequence to separate the following sentences.\n",
    "        # I am enjoying this challenge.\n",
    "        # I just wonder what is next.  \n",
    "\n",
    "\n",
    "print('I am enjoying this challenge. \\nI just wonder what is next.'  ) "
   ]
  },
  {
   "cell_type": "code",
   "execution_count": null,
   "metadata": {},
   "outputs": [],
   "source": [
    "# 34. Use a tab escape sequence to write the following lines.\n",
    "        # Name      Age     Country   City\n",
    "        # Asabeneh  250     Finland   Helsinki\n",
    "        \n",
    "print(\"Name\\t\\tAge\\tCountry\\tCity\")\n",
    "print(\"Asabeneh\\t250\\tFinland\\tHelsinki\")"
   ]
  },
  {
   "cell_type": "code",
   "execution_count": null,
   "metadata": {},
   "outputs": [],
   "source": [
    "# 35. Use the string formatting method to display the following:\n",
    "        # radius = 10\n",
    "        # area = 3.14 * radius ** 2\n",
    "        # The area of a circle with radius 10 is 314 meters square.\n",
    "radius = 10\n",
    "area = 3.14 * radius ** 2\n",
    "print(f'The The area of a circle with radius {radius} is {area} meters square')"
   ]
  },
  {
   "cell_type": "code",
   "execution_count": null,
   "metadata": {},
   "outputs": [],
   "source": [
    "# 36. Make the following using string formatting methods:\n",
    "        # 8 + 6 = 14\n",
    "        # 8 - 6 = 2\n",
    "        # 8 * 6 = 48\n",
    "        # 8 / 6 = 1.33\n",
    "        # 8 % 6 = 2\n",
    "        # 8 // 6 = 1\n",
    "        # 8 ** 6 = 262144\n",
    "\n",
    "a = 8\n",
    "b = 6\n",
    "\n",
    "print('{} + {} = {}'.format(a, b, a + b))\n",
    "print('{} - {} = {}'.format(a, b, a - b))\n",
    "print('{} * {} = {}'.format(a, b, a * b))\n",
    "print('{} / {} = {:.2f}'.format(a, b, a / b)) \n",
    "print('{} % {} = {}'.format(a, b, a % b))\n",
    "print('{} // {} = {}'.format(a, b, a // b))\n",
    "print('{} ** {} = {}'.format(a, b, a ** b))"
   ]
  }
 ],
 "metadata": {
  "kernelspec": {
   "display_name": "Python 3",
   "language": "python",
   "name": "python3"
  },
  "language_info": {
   "codemirror_mode": {
    "name": "ipython",
    "version": 3
   },
   "file_extension": ".py",
   "mimetype": "text/x-python",
   "name": "python",
   "nbconvert_exporter": "python",
   "pygments_lexer": "ipython3",
   "version": "3.11.3"
  }
 },
 "nbformat": 4,
 "nbformat_minor": 2
}
