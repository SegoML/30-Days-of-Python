{
 "cells": [
  {
   "cell_type": "markdown",
   "metadata": {},
   "source": [
    "## Execises: Module 7 - Conditionals\n"
   ]
  },
  {
   "cell_type": "markdown",
   "metadata": {
    "vscode": {
     "languageId": "plaintext"
    }
   },
   "source": [
    "### Execises: Level 1"
   ]
  },
  {
   "cell_type": "code",
   "execution_count": null,
   "metadata": {},
   "outputs": [],
   "source": [
    "# 1. Get user input using input(“Enter your age: ”). If user is 18 or older, give feedback: You are old enough to drive. \n",
    "# If below 18 give feedback to wait for the missing amount of years.\n",
    "\n",
    "age = int(input(\"Enter your age: \"))\n",
    "if age >= 18:\n",
    "    print(\"You are old enough to drive.\")\n",
    "else:\n",
    "    print(f\"Wait for {18 - age} years to drive.\")   "
   ]
  },
  {
   "cell_type": "code",
   "execution_count": null,
   "metadata": {},
   "outputs": [],
   "source": [
    "# 2. Compare the values of my_age and your_age using if/else. Who is older (me or you)? Use input(“Enter your age: ”) to get the age as input.\n",
    "# You can use a nested condition to print 'year' for 1 year difference in age, 'years' for bigger difference, and a custom text if my_age = your_age.\n",
    "\n",
    "my_age = int(input(\"Enter my age: \"))\n",
    "your_age = int(input(\"Enter your age: \"))\n",
    "if my_age > your_age:\n",
    "    print(f\"You are {my_age - your_age} years older than me.\") \n",
    "elif my_age < your_age:    \n",
    "    print(f\"I am {your_age - my_age} years older than you.\")\n",
    "else:    \n",
    "    print(\"We are the same age.\")"
   ]
  },
  {
   "cell_type": "code",
   "execution_count": null,
   "metadata": {},
   "outputs": [],
   "source": [
    "# 3. Get two numbers from the user using input prompt. \n",
    "# If a is greater than b return \"a is greater than b\", if a is less b return \"a is smaller than b\", else \"a is equal to b\".   \n",
    " \n",
    "a = int(input(\"Enter a number: \"))\n",
    "b = int(input(\"Enter another number: \"))    \n",
    "if a > b:\n",
    "    print(\"a is greater than b.\")\n",
    "elif a < b:   \n",
    "    print(\"a is smaller than b.\")   \n",
    "else:\n",
    "    print(\"a is equal to b.\") "
   ]
  },
  {
   "cell_type": "markdown",
   "metadata": {},
   "source": [
    "### Execises: Level 2"
   ]
  },
  {
   "cell_type": "code",
   "execution_count": null,
   "metadata": {},
   "outputs": [],
   "source": [
    "# 1. Write a code which gives grade to students according to their scores: \n",
    "        # 80-100: A\n",
    "        # 70-89: B\n",
    "        # 60-69: C\n",
    "        # 50-59: D\n",
    "        # 0-49: F\n",
    "\n",
    "score = int(input(\"Enter your score: \"))        \n",
    "if score >= 80 and score <= 100:\n",
    "    print(\"Grade: A\")   \n",
    "elif score >= 70 and score <= 79:\n",
    "    print(\"Grade: B\")\n",
    "elif score >= 60 and score <= 69:\n",
    "    print(\"Grade: C\")\n",
    "elif score >= 50 and score <= 59:\n",
    "    print(\"Grade: D\")\n",
    "else:\n",
    "    print(\"Grade: F\")"
   ]
  },
  {
   "cell_type": "code",
   "execution_count": null,
   "metadata": {},
   "outputs": [],
   "source": [
    "# 2. Check if the season is Autumn, Winter, Spring or Summer. If the user input is: September, October or November, the season is Autumn. \n",
    "# December, January or February, the season is Winter. March, April or May, the season is Spring June, July or August, the season is Summer\n",
    "\n",
    "month = input(\"Enter the month: \")\n",
    "if month in [\"September\", \"October\", \"November\"]:\n",
    "    print(\"The season is Autumn.\")\n",
    "elif month in [\"December\", \"January\", \"February\"]:\n",
    "    print(\"The season is Winter.\")\n",
    "elif month in [\"March\", \"April\", \"May\"]:            \n",
    "    print(\"The season is Spring.\")\n",
    "else:\n",
    "    print(\"The season is Summer.\")\n"
   ]
  },
  {
   "cell_type": "code",
   "execution_count": null,
   "metadata": {},
   "outputs": [],
   "source": [
    "# 3. The following list contains some fruits:\n",
    "        # fruits = ['banana', 'orange', 'mango', 'lemon']\n",
    "        # If a fruit doesn't exist in the list add the fruit to the list and print the modified list. \n",
    "        # If the fruit exists print('That fruit already exist in the list')\n",
    "\n",
    "fruits = ['banana', 'orange', 'mango', 'lemon']\n",
    "fruit = input(\"Enter a fruit: \")\n",
    "if fruit in fruits:\n",
    "    print(\"That fruit already exist in the list.\")\n",
    "else:\n",
    "    fruits.append(fruit)\n",
    "    print(fruits)\n"
   ]
  },
  {
   "cell_type": "markdown",
   "metadata": {},
   "source": [
    "### Execises: Level 3"
   ]
  },
  {
   "cell_type": "code",
   "execution_count": null,
   "metadata": {},
   "outputs": [],
   "source": [
    "# 1. Here we have a person dictionary.\n",
    "'''\n",
    "        person={\n",
    "    'first_name': 'Assanatou',\n",
    "    'last_name': 'Bah',\n",
    "    'age': 30\n",
    "    'country': 'The Gambia',\n",
    "    'is_marred': True,\n",
    "    'skills': ['Excel', 'SQL', 'PowerBI', 'Tableau', 'Python'],\n",
    "    'address': {\n",
    "        'street': 'Bundung',\n",
    "        'zipcode': '00000'\n",
    "    }\n",
    "    }\n",
    "'''\n",
    "#  Check if the person dictionary has skills key, if so print out the middle skill in the skills list.\n",
    "#  Check if the person dictionary has skills key, if so check if the person has 'Python' skill and print out the result.\n",
    "#  If a person skills has only JavaScript and React, print('He is a front end developer'), if the person skills has Node, Python, MongoDB, print('He is a backend developer'), if the person skills has React, Node and MongoDB, Print('He is a fullstack developer'), else print('unknown title') - for more accurate results more conditions can be nested!\n",
    "#  If the person is married and if he lives in Finland, print the information in the following format:\n",
    "    # Assanatou Bah lives in Finland. He is married.\n",
    "    \n",
    "person={\n",
    "    'first_name': 'Assanatou',\n",
    "    'last_name': 'Bah',\n",
    "    'age': 30,\n",
    "    'country': 'The Gambia',\n",
    "    'is_marred': True,\n",
    "    'skills': ['JavaScript', 'React', 'Node', 'MongoDB', 'Python'],\n",
    "    'address': {\n",
    "        'street': 'Bundung',\n",
    "        'zipcode': '00000'\n",
    "    }\n",
    "    }  \n",
    "\n",
    "if 'skills' in person:\n",
    "    print(person['skills'][len(person['skills'])//2])\n",
    "if 'skills' in person:\n",
    "    if 'Python' in person['skills']:\n",
    "        print(\"Python is in the skills list.\")\n",
    "if 'skills' in person:\n",
    "    if person['skills'] == ['JavaScript', 'React']:\n",
    "        print(\"He is a front end developer.\")\n",
    "    elif person['skills'] == ['Node', 'Python', 'MongoDB']:\n",
    "        print(\"He is a backend developer.\")\n",
    "    elif person['skills'] == ['React', 'Node', 'MongoDB']:\n",
    "        print(\"He is a fullstack developer.\")\n",
    "    else:\n",
    "        print(\"Unknown title.\")\n",
    "if person['is_marred'] and person['country'] == 'The Gambia':\n",
    "    print(f\"{person['first_name']} {person['last_name']} lives in {person['country']}. She is married.\")\n"
   ]
  }
 ],
 "metadata": {
  "kernelspec": {
   "display_name": "base",
   "language": "python",
   "name": "python3"
  },
  "language_info": {
   "codemirror_mode": {
    "name": "ipython",
    "version": 3
   },
   "file_extension": ".py",
   "mimetype": "text/x-python",
   "name": "python",
   "nbconvert_exporter": "python",
   "pygments_lexer": "ipython3",
   "version": "3.10.9"
  }
 },
 "nbformat": 4,
 "nbformat_minor": 2
}
