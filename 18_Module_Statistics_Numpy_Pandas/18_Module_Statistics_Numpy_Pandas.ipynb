{
  "nbformat": 4,
  "nbformat_minor": 0,
  "metadata": {
    "colab": {
      "provenance": []
    },
    "kernelspec": {
      "name": "python3",
      "display_name": "Python 3"
    },
    "language_info": {
      "name": "python"
    }
  },
  "cells": [
    {
      "cell_type": "code",
      "execution_count": null,
      "metadata": {
        "id": "2C0sZR24urP0"
      },
      "outputs": [],
      "source": [
        "# Module 17 - Pandas Exercises\n",
        "# This cell imports the pandas library and sets up the CSV file path.\n",
        "\n",
        "import pandas as pd\n",
        "import sys\n",
        "sys.path.append('./data')"
      ]
    },
    {
      "cell_type": "code",
      "source": [
        "# Load the hacker_news.csv file into a pandas DataFrame\n",
        "try:\n",
        "    hacker_news_df = pd.read_csv('hacker_news.csv')\n",
        "    print(\"The csv file has been loaded.\")\n",
        "except FileNotFoundError:\n",
        "    print(\"Error: File 'hacker_news.csv' not found in the data folder. Please check and try again.\")\n",
        "    hacker_news_df = None # set to none so that tests will not be run.\n",
        "except Exception as e:\n",
        "    print(f\"Error loading the CSV: {e}\")\n",
        "    hacker_news_df = None # set to none so that tests will not be run."
      ],
      "metadata": {
        "id": "c88mizoSus0x"
      },
      "execution_count": null,
      "outputs": []
    },
    {
      "cell_type": "code",
      "source": [
        "# Get the first five rows of the DataFrame\n",
        "\n",
        "if hacker_news_df is not None:\n",
        "  print(\"First Five Rows:\")\n",
        "  print(hacker_news_df.head())"
      ],
      "metadata": {
        "id": "PrPxUS4Yu2UQ"
      },
      "execution_count": null,
      "outputs": []
    },
    {
      "cell_type": "code",
      "source": [
        "# Get the last five rows of the DataFrame\n",
        "if hacker_news_df is not None:\n",
        "    print(\"\\nLast Five Rows:\")\n",
        "    print(hacker_news_df.tail())"
      ],
      "metadata": {
        "id": "_FEpF5cOvAYv"
      },
      "execution_count": null,
      "outputs": []
    },
    {
      "cell_type": "code",
      "source": [
        "# Get the 'title' column as a pandas Series\n",
        "if hacker_news_df is not None:\n",
        "    title_series = hacker_news_df['title']\n",
        "    print(\"\\nTitle Column as Pandas Series:\")\n",
        "    print(title_series.head())  # Show the first few elements of the Series"
      ],
      "metadata": {
        "id": "xMK2sqCXvEz1"
      },
      "execution_count": null,
      "outputs": []
    },
    {
      "cell_type": "code",
      "source": [
        "# Get the number of rows and columns in the DataFrame\n",
        "\n",
        "if hacker_news_df is not None:\n",
        "    num_rows = hacker_news_df.shape[0]\n",
        "    num_cols = hacker_news_df.shape[1]\n",
        "    print(f\"\\nNumber of Rows: {num_rows}\")\n",
        "    print(f\"Number of Columns: {num_cols}\")"
      ],
      "metadata": {
        "id": "zXHkqWi9vFQ-"
      },
      "execution_count": null,
      "outputs": []
    },
    {
      "cell_type": "code",
      "source": [
        "# Filter titles which contain the word \"python\"\n",
        "if hacker_news_df is not None:\n",
        "    python_titles = hacker_news_df[hacker_news_df['title'].str.contains('python', case=False, na=False)]\n",
        "    print(\"\\nTitles Containing 'python':\")\n",
        "    print(python_titles[['title', 'url']].head())  # Show the first few filtered titles and urls"
      ],
      "metadata": {
        "id": "VAvZYXT9vNao"
      },
      "execution_count": null,
      "outputs": []
    },
    {
      "cell_type": "code",
      "source": [
        "# Filter titles which contain the word \"JavaScript\"\n",
        "if hacker_news_df is not None:\n",
        "    javascript_titles = hacker_news_df[hacker_news_df['title'].str.contains('JavaScript', case=False, na=False)]\n",
        "    print(\"\\nTitles Containing 'JavaScript':\")\n",
        "    print(javascript_titles[['title', 'url']].head())  # Show the first few filtered titles and urls"
      ],
      "metadata": {
        "id": "LaC8h4sovSfk"
      },
      "execution_count": null,
      "outputs": []
    },
    {
      "cell_type": "code",
      "source": [
        "# Basic descriptive statistics of numerical columns\n",
        "if hacker_news_df is not None:\n",
        "    print(\"\\nData Exploration:\")\n",
        "    print(\"\\nDataFrame info:\")\n",
        "    hacker_news_df.info() # show the column names and dtypes\n",
        "    print(\"\\nDescriptive Statistics (numerical columns):\")\n",
        "    print(hacker_news_df.describe()) #show basic stats of numerical columns.\n",
        "    print(\"\\nValue counts for type column:\")\n",
        "    print(hacker_news_df['type'].value_counts()) #count values in the type column\n",
        "    print(\"\\nValue counts for author column:\")\n",
        "    print(hacker_news_df['author'].value_counts().head(10)) #count values in the author column\n",
        "\n",
        "    print(\"\\nExample of few rows:\")\n",
        "    print(hacker_news_df.head()) #print first few rows for reference"
      ],
      "metadata": {
        "id": "3a1C1sTwvSQf"
      },
      "execution_count": null,
      "outputs": []
    }
  ]
}